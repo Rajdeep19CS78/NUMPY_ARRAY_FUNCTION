{
 "cells": [
  {
   "cell_type": "code",
   "execution_count": 3,
   "metadata": {},
   "outputs": [],
   "source": [
    "import numpy as np"
   ]
  },
  {
   "cell_type": "code",
   "execution_count": 7,
   "metadata": {},
   "outputs": [
    {
     "name": "stdout",
     "output_type": "stream",
     "text": [
      "[[1. 2.]\n",
      " [3. 4.]]\n"
     ]
    }
   ],
   "source": [
    "a=np.array([[1.0,2.0],[3.0,4.0]])\n",
    "print(a)"
   ]
  },
  {
   "cell_type": "code",
   "execution_count": 5,
   "metadata": {},
   "outputs": [
    {
     "data": {
      "text/plain": [
       "numpy.ndarray"
      ]
     },
     "execution_count": 5,
     "metadata": {},
     "output_type": "execute_result"
    }
   ],
   "source": [
    "type(a)"
   ]
  },
  {
   "cell_type": "code",
   "execution_count": 10,
   "metadata": {},
   "outputs": [
    {
     "name": "stdout",
     "output_type": "stream",
     "text": [
      "[[1.1 2.9 3. ]\n",
      " [3.  4.  5. ]]\n"
     ]
    }
   ],
   "source": [
    "A=np.array([[1.1,2.9,3],[3,4,5]])\n",
    "print(A)"
   ]
  },
  {
   "cell_type": "code",
   "execution_count": 12,
   "metadata": {},
   "outputs": [
    {
     "name": "stdout",
     "output_type": "stream",
     "text": [
      "[[1.+0.j 2.+0.j 3.+0.j]\n",
      " [3.+0.j 4.+0.j 5.+0.j]]\n"
     ]
    }
   ],
   "source": [
    "A=np.array([[1,2,3],[3,4,5]],dtype=complex)\n",
    "print(A)\n"
   ]
  },
  {
   "cell_type": "code",
   "execution_count": 13,
   "metadata": {},
   "outputs": [
    {
     "name": "stdout",
     "output_type": "stream",
     "text": [
      "[1. 2. 3.]\n"
     ]
    }
   ],
   "source": [
    "import numpy as np\n",
    "a=np.array([1.0,2.0,3.0])\n",
    "print(a)#row vector"
   ]
  },
  {
   "cell_type": "code",
   "execution_count": 16,
   "metadata": {},
   "outputs": [
    {
     "name": "stdout",
     "output_type": "stream",
     "text": [
      "[[1]\n",
      " [2]\n",
      " [3]]\n"
     ]
    }
   ],
   "source": [
    "import numpy as np\n",
    "v=np.array([[1],[2],[3]])#column vector\n",
    "print(v)"
   ]
  },
  {
   "cell_type": "code",
   "execution_count": 17,
   "metadata": {},
   "outputs": [
    {
     "name": "stdout",
     "output_type": "stream",
     "text": [
      "[ 7 10 13 16]\n"
     ]
    }
   ],
   "source": [
    "import numpy as np\n",
    "A=np.array([1,3,5,7])\n",
    "B=np.array([6,7,8,9])\n",
    "C=A+B\n",
    "print(C)"
   ]
  },
  {
   "cell_type": "code",
   "execution_count": 18,
   "metadata": {},
   "outputs": [
    {
     "name": "stdout",
     "output_type": "stream",
     "text": [
      "[[ 7]\n",
      " [10]\n",
      " [12]]\n"
     ]
    }
   ],
   "source": [
    "import numpy as np\n",
    "A=np.array([[1],[2],[3]])\n",
    "B=np.array([[6],[8],[9]])\n",
    "C=A+B\n",
    "print(C)"
   ]
  },
  {
   "cell_type": "code",
   "execution_count": 20,
   "metadata": {},
   "outputs": [
    {
     "name": "stdout",
     "output_type": "stream",
     "text": [
      "[[ 2  7  9]\n",
      " [13 15 11]]\n"
     ]
    }
   ],
   "source": [
    "import numpy as np\n",
    "A=np.array([[1,2,3],[5,6,7]])\n",
    "B=np.array([[1,5,6],[8,9,4]])\n",
    "C=A+B\n",
    "print(C)\n"
   ]
  },
  {
   "cell_type": "code",
   "execution_count": 22,
   "metadata": {},
   "outputs": [
    {
     "name": "stdout",
     "output_type": "stream",
     "text": [
      "[[2 4 6]\n",
      " [4 5 6]]\n"
     ]
    }
   ],
   "source": [
    "import numpy as np\n",
    "A=np.array([[1,2,3],[0,0,0]])\n",
    "B=np.array([[1,2,3],[4,5,6]])\n",
    "C=A+B\n",
    "print(C)"
   ]
  },
  {
   "cell_type": "code",
   "execution_count": 31,
   "metadata": {},
   "outputs": [
    {
     "name": "stdout",
     "output_type": "stream",
     "text": [
      "[[1 2 3]]\n"
     ]
    }
   ],
   "source": [
    "import numpy as np\n",
    "A=np.array([[1],[2],[3]])\n",
    "print(A.transpose())\n"
   ]
  },
  {
   "cell_type": "code",
   "execution_count": 32,
   "metadata": {},
   "outputs": [
    {
     "data": {
      "text/plain": [
       "(3, 1)"
      ]
     },
     "execution_count": 32,
     "metadata": {},
     "output_type": "execute_result"
    }
   ],
   "source": [
    "np.shape(A)"
   ]
  },
  {
   "cell_type": "code",
   "execution_count": 33,
   "metadata": {},
   "outputs": [
    {
     "name": "stdout",
     "output_type": "stream",
     "text": [
      "The Vector V1= [[4 3 2]]\n",
      "The Vector c*V= [[8 6 4]]\n"
     ]
    }
   ],
   "source": [
    "#SCalar multiplication of matrix\n",
    "import numpy as np\n",
    "V1=np.array([[4,3,2]])\n",
    "c=2\n",
    "print(\"The Vector V1=\",V1)\n",
    "print(\"The Vector c*V=\",c*V1)"
   ]
  },
  {
   "cell_type": "code",
   "execution_count": 39,
   "metadata": {},
   "outputs": [
    {
     "name": "stdout",
     "output_type": "stream",
     "text": [
      "The Vector A: [[3]\n",
      " [6]\n",
      " [9]]\n",
      "\n",
      "The Vector B: [[1 2 3]]\n",
      "[[ 3  6  9]\n",
      " [ 6 12 18]\n",
      " [ 9 18 27]]\n"
     ]
    }
   ],
   "source": [
    "import numpy as np\n",
    "V=np.array([[3],[6],[9]])\n",
    "print(\"The Vector A:\",V)\n",
    "VV=np.array([[1,2,3]])\n",
    "print(\"\\nThe Vector B:\",VV)\n",
    "pro=V.dot(VV)\n",
    "print(pro)"
   ]
  },
  {
   "cell_type": "code",
   "execution_count": 36,
   "metadata": {},
   "outputs": [
    {
     "data": {
      "text/plain": [
       "(3,)"
      ]
     },
     "execution_count": 36,
     "metadata": {},
     "output_type": "execute_result"
    }
   ],
   "source": [
    "np.shape(V)"
   ]
  },
  {
   "cell_type": "code",
   "execution_count": 2,
   "metadata": {},
   "outputs": [
    {
     "name": "stdout",
     "output_type": "stream",
     "text": [
      "\n",
      "\n",
      "---A---\n",
      " [2 4 8 7 7]\n",
      "\n",
      "\n",
      "---B---\n",
      " [2 3 1 7 8]\n",
      "\n",
      "\n",
      "Outer Product as A.B [[ 4  6  2 14 16]\n",
      " [ 8 12  4 28 32]\n",
      " [16 24  8 56 64]\n",
      " [14 21  7 49 56]\n",
      " [14 21  7 49 56]]\n",
      "\n",
      "\n",
      "Outer Product as A.B [[ 4  8 16 14 14]\n",
      " [ 6 12 24 21 21]\n",
      " [ 2  4  8  7  7]\n",
      " [14 28 56 49 49]\n",
      " [16 32 64 56 56]]\n"
     ]
    }
   ],
   "source": [
    "#Outer Product\n",
    "import numpy as np\n",
    "a=np.array([2,4,8,7,7])\n",
    "b=np.array([2,3,1,7,8])\n",
    "#outr product in both order\n",
    "opab=np.outer(a,b)\n",
    "opba=np.outer(b,a)\n",
    "print(\"\\n\\n---A---\\n\",a)\n",
    "print(\"\\n\\n---B---\\n\",b)\n",
    "print(\"\\n\\nOuter Product as A.B\",opab)\n",
    "print(\"\\n\\nOuter Product as A.B\",opba)"
   ]
  },
  {
   "cell_type": "code",
   "execution_count": 9,
   "metadata": {},
   "outputs": [
    {
     "name": "stdout",
     "output_type": "stream",
     "text": [
      "D= [[ 36 -12]\n",
      " [ -1   2]]\n",
      "(2, 2)\n",
      "R= [[ 3  6 14]\n",
      " [10 -3  0]]\n"
     ]
    }
   ],
   "source": [
    "import numpy as np\n",
    "A=np.array([[3,6,7],[5,-3,0]])#2*3\n",
    "B=np.array([[1,1],[2,1],[3,-3]])#3*2\n",
    "D=A.dot(B)#Matrix wise multiplication\n",
    "print(\"D=\",D)#dimension of D\n",
    "print(np.shape(D))\n",
    "P=np.array([[3,6,7],[5,-3,0]])\n",
    "Q=np.array([[1,1,2],[2,1,4]])\n",
    "R=P*Q#elemnts-wise multiplication\n",
    "print(\"R=\",R)#not matrix multiplications"
   ]
  },
  {
   "cell_type": "code",
   "execution_count": 23,
   "metadata": {},
   "outputs": [
    {
     "ename": "ValueError",
     "evalue": "shapes (1,3) and (1,3) not aligned: 3 (dim 1) != 1 (dim 0)",
     "output_type": "error",
     "traceback": [
      "\u001b[1;31m---------------------------------------------------------------------------\u001b[0m",
      "\u001b[1;31mValueError\u001b[0m                                Traceback (most recent call last)",
      "\u001b[1;32m<ipython-input-23-c359d5a63e6a>\u001b[0m in \u001b[0;36m<module>\u001b[1;34m\u001b[0m\n\u001b[0;32m      3\u001b[0m \u001b[1;31m#B=np.array([[2],[5],[7]])\u001b[0m\u001b[1;33m\u001b[0m\u001b[1;33m\u001b[0m\u001b[1;33m\u001b[0m\u001b[0m\n\u001b[0;32m      4\u001b[0m \u001b[0mB\u001b[0m\u001b[1;33m=\u001b[0m\u001b[0mA\u001b[0m\u001b[1;33m.\u001b[0m\u001b[0mtranspose\u001b[0m\u001b[1;33m(\u001b[0m\u001b[1;33m)\u001b[0m\u001b[1;33m\u001b[0m\u001b[1;33m\u001b[0m\u001b[0m\n\u001b[1;32m----> 5\u001b[1;33m \u001b[0mC\u001b[0m\u001b[1;33m=\u001b[0m\u001b[0mnp\u001b[0m\u001b[1;33m.\u001b[0m\u001b[0minner\u001b[0m\u001b[1;33m(\u001b[0m\u001b[0mB\u001b[0m\u001b[1;33m,\u001b[0m\u001b[0mA\u001b[0m\u001b[1;33m)\u001b[0m\u001b[1;33m\u001b[0m\u001b[1;33m\u001b[0m\u001b[0m\n\u001b[0m\u001b[0;32m      6\u001b[0m \u001b[0mprint\u001b[0m\u001b[1;33m(\u001b[0m\u001b[1;34m\"C=\"\u001b[0m\u001b[1;33m,\u001b[0m\u001b[0mC\u001b[0m\u001b[1;33m)\u001b[0m\u001b[1;33m\u001b[0m\u001b[1;33m\u001b[0m\u001b[0m\n",
      "\u001b[1;31mValueError\u001b[0m: shapes (1,3) and (1,3) not aligned: 3 (dim 1) != 1 (dim 0)"
     ]
    }
   ],
   "source": [
    "import numpy as np\n",
    "A=np.array([[1],[2],[4]])\n",
    "#B=np.array([[2],[5],[7]])\n",
    "B=A.transpose()\n",
    "C=np.inner(A,B)\n",
    "print(\"C=\",C)"
   ]
  },
  {
   "cell_type": "code",
   "execution_count": 26,
   "metadata": {
    "scrolled": true
   },
   "outputs": [
    {
     "name": "stdout",
     "output_type": "stream",
     "text": [
      "126\n",
      "<class 'numpy.ndarray'>\n",
      "[126]\n",
      "<class 'numpy.int32'>\n",
      "126\n"
     ]
    }
   ],
   "source": [
    "#Vector Multiplication\n",
    "import numpy as np\n",
    "V1=np.array([4,5,6,7])\n",
    "V2=np.array([[4],[5],[6],[7]])\n",
    "V3=V1.transpose()\n",
    "R1=V1.dot(V2)\n",
    "#R3=V1.dot(V3)\n",
    "#print(R3)\n",
    "print(type(R1))\n",
    "print(R1)\n",
    "R2=V1.dot(V1)\n",
    "print(type(R2))\n",
    "print(R2)"
   ]
  },
  {
   "cell_type": "code",
   "execution_count": 27,
   "metadata": {},
   "outputs": [
    {
     "name": "stdout",
     "output_type": "stream",
     "text": [
      "(1, 4)\n",
      "(4, 1)\n",
      "<class 'numpy.ndarray'>\n",
      "[[16 20 24 28]\n",
      " [20 25 30 35]\n",
      " [24 30 36 42]\n",
      " [28 35 42 49]]\n"
     ]
    }
   ],
   "source": [
    "#Vector Multiplication\n",
    "import numpy as np\n",
    "V1=np.array([[4,5,6,7]])\n",
    "print(V1.shape)\n",
    "V2=np.array([[4],[5],[6],[7]])\n",
    "print(V2.shape)\n",
    "R1=V2.dot(V1)\n",
    "print(type(R1))\n",
    "print(R1)"
   ]
  },
  {
   "cell_type": "code",
   "execution_count": 28,
   "metadata": {},
   "outputs": [
    {
     "name": "stdout",
     "output_type": "stream",
     "text": [
      "(4, 3)\n",
      "(3, 1)\n",
      "[[20]\n",
      " [33]\n",
      " [56]\n",
      " [28]]\n"
     ]
    }
   ],
   "source": [
    "#Matrix Vector Multipluactiom\n",
    "import numpy as np\n",
    "V1=np.array([[1,2,3],[2,3,5],[3,6,8],[2,4,3]])\n",
    "V2=np.array([[2],[3],[4]])\n",
    "print(V1.shape)\n",
    "print(V2.shape)\n",
    "R1=V1.dot(V2)\n",
    "print(R1)"
   ]
  },
  {
   "cell_type": "code",
   "execution_count": 34,
   "metadata": {},
   "outputs": [
    {
     "name": "stdout",
     "output_type": "stream",
     "text": [
      "[[0 1 2]\n",
      " [3 4 5]\n",
      " [6 7 8]]\n",
      "[0 4 8]\n",
      "[1 5]\n",
      "[3 7]\n",
      "[[0 0 0]\n",
      " [0 4 0]\n",
      " [0 0 8]]\n",
      "[[5 0 0]\n",
      " [0 6 0]\n",
      " [0 0 7]]\n"
     ]
    }
   ],
   "source": [
    "#diagonal Matrix\n",
    "import numpy as np\n",
    "x=np.arange(9).reshape((3,3))\n",
    "print(x)\n",
    "print(\"x1=\",np.diag(x))\n",
    "print(\"x2=\",np.diag(x,k=1))#upper 2*2 matrix  k represents diagonalabove main diagonal\n",
    "print(\"x3=\",np.diag(x,k=-1))#lower 2*2 matrix here k represent diagonal below main diagonal\n",
    "y=np.diag(np.diag(x))#making diagonal matrix\n",
    "print(y)\n",
    "z=np.diag([5,6,7])\n",
    "print(z)\n"
   ]
  },
  {
   "cell_type": "code",
   "execution_count": 37,
   "metadata": {},
   "outputs": [
    {
     "name": "stdout",
     "output_type": "stream",
     "text": [
      "\n",
      "---I(4x4)---- [[1. 0. 0. 0.]\n",
      " [0. 1. 0. 0.]\n",
      " [0. 0. 1. 0.]\n",
      " [0. 0. 0. 1.]]\n",
      "\n",
      "\n",
      "----Ik-----\n",
      " [[1. 0. 0. 0.]\n",
      " [0. 1. 0. 0.]\n",
      " [0. 0. 1. 0.]\n",
      " [0. 0. 0. 1.]]\n"
     ]
    }
   ],
   "source": [
    "#Identity Matrix Property(I^K=I)\n",
    "import numpy as np\n",
    "I=np.eye(4)\n",
    "print(\"\\n---I(4x4)----\",I)\n",
    "k=14\n",
    "Ik=I\n",
    "for i in range(14):\n",
    "    Ik=I*Ik#or I.dot(Ik)\n",
    "print(\"\\n\\n----Ik-----\\n\",Ik)"
   ]
  },
  {
   "cell_type": "code",
   "execution_count": 39,
   "metadata": {},
   "outputs": [
    {
     "name": "stdout",
     "output_type": "stream",
     "text": [
      "----MatrixI----\n",
      " [[1. 0. 0.]\n",
      " [0. 1. 0.]\n",
      " [0. 0. 1.]]\n",
      "----Matrix A--- [[ 2  3  4]\n",
      " [ 3 45  8]\n",
      " [ 4  8 78]]\n",
      "Identity Matrix Property I.A [[ 2.  3.  4.]\n",
      " [ 3. 45.  8.]\n",
      " [ 4.  8. 78.]]\n",
      "AI=A\n"
     ]
    }
   ],
   "source": [
    "#Identity Matrix Property(AI=A)\n",
    "import numpy as np\n",
    "I=np.eye(3)\n",
    "print(\"----MatrixI----\\n\",I)\n",
    "A=np.array([[2,3,4],[3,45,8],[4,8,78]])\n",
    "print(\"----Matrix A---\",A)\n",
    "ai=np.matmul(A,I);\n",
    "print(\"Identity Matrix Property I.A\",ai)\n",
    "if ai.all()==A.all():# to check whether all elements in both matrox\n",
    "    print(\"AI=A\")"
   ]
  },
  {
   "cell_type": "code",
   "execution_count": 40,
   "metadata": {},
   "outputs": [
    {
     "name": "stdout",
     "output_type": "stream",
     "text": [
      "----Matrix A--- [[ 2  3  4]\n",
      " [ 3 45  8]\n",
      " [ 4  8 78]]\n",
      "The determinannt of matrix A: 5661.9999999999945\n",
      "\n",
      "\n",
      "----Matrix B-----\n",
      " [[ 2  3  4]\n",
      " [ 3 14  8]\n",
      " [14  8  7]]\n",
      "The determiannt of Matrix B: -347.00000000000006\n"
     ]
    }
   ],
   "source": [
    "#Determinant Of matrix\n",
    "import numpy as np\n",
    "M=np.array([[2,3,4],[3,45,8],[4,8,78]])\n",
    "print(\"----Matrix A---\",M)\n",
    "det_A=np.linalg.det(M)\n",
    "print(\"The determinannt of matrix A:\",det_A)\n",
    "M=np.array([[2,3,4],[3,14,8],[14,8,7]])\n",
    "print(\"\\n\\n----Matrix B-----\\n\",M)\n",
    "det_B=np.linalg.det(M)\n",
    "print(\"The determiannt of Matrix B:\",det_B)\n"
   ]
  },
  {
   "cell_type": "code",
   "execution_count": 10,
   "metadata": {},
   "outputs": [
    {
     "name": "stdout",
     "output_type": "stream",
     "text": [
      "\n",
      "------MATRIX A------\n",
      " [[0. 0. 0. 0. 0. 0.]\n",
      " [0. 0. 0. 0. 0. 0.]\n",
      " [0. 0. 0. 0. 0. 0.]\n",
      " [0. 0. 0. 0. 0. 0.]\n",
      " [0. 0. 0. 0. 0. 0.]\n",
      " [0. 0. 0. 0. 0. 0.]]\n"
     ]
    },
    {
     "ename": "LinAlgError",
     "evalue": "Singular matrix",
     "output_type": "error",
     "traceback": [
      "\u001b[1;31m---------------------------------------------------------------------------\u001b[0m",
      "\u001b[1;31mLinAlgError\u001b[0m                               Traceback (most recent call last)",
      "\u001b[1;32m<ipython-input-10-dc7687b7acf3>\u001b[0m in \u001b[0;36m<module>\u001b[1;34m\u001b[0m\n\u001b[0;32m      3\u001b[0m \u001b[0mM\u001b[0m\u001b[1;33m=\u001b[0m\u001b[0mnp\u001b[0m\u001b[1;33m.\u001b[0m\u001b[0mzeros\u001b[0m\u001b[1;33m(\u001b[0m\u001b[1;33m(\u001b[0m\u001b[1;36m6\u001b[0m\u001b[1;33m,\u001b[0m\u001b[1;36m6\u001b[0m\u001b[1;33m)\u001b[0m\u001b[1;33m)\u001b[0m\u001b[1;33m\u001b[0m\u001b[1;33m\u001b[0m\u001b[0m\n\u001b[0;32m      4\u001b[0m \u001b[0mprint\u001b[0m\u001b[1;33m(\u001b[0m\u001b[1;34m\"\\n------MATRIX A------\\n\"\u001b[0m\u001b[1;33m,\u001b[0m\u001b[0mM\u001b[0m\u001b[1;33m)\u001b[0m\u001b[1;33m\u001b[0m\u001b[1;33m\u001b[0m\u001b[0m\n\u001b[1;32m----> 5\u001b[1;33m \u001b[0mai\u001b[0m\u001b[1;33m=\u001b[0m\u001b[0mnp\u001b[0m\u001b[1;33m.\u001b[0m\u001b[0mlinalg\u001b[0m\u001b[1;33m.\u001b[0m\u001b[0minv\u001b[0m\u001b[1;33m(\u001b[0m\u001b[0mM\u001b[0m\u001b[1;33m)\u001b[0m\u001b[1;33m\u001b[0m\u001b[1;33m\u001b[0m\u001b[0m\n\u001b[0m\u001b[0;32m      6\u001b[0m \u001b[0mprint\u001b[0m\u001b[1;33m(\u001b[0m\u001b[1;34m\"\\nInverse of MAtrix M as---\"\u001b[0m\u001b[1;33m,\u001b[0m\u001b[0mai\u001b[0m\u001b[1;33m)\u001b[0m\u001b[1;33m\u001b[0m\u001b[1;33m\u001b[0m\u001b[0m\n",
      "\u001b[1;32m~\\OneDrive\\Documents\\lib\\site-packages\\numpy\\linalg\\linalg.py\u001b[0m in \u001b[0;36minv\u001b[1;34m(a)\u001b[0m\n\u001b[0;32m    549\u001b[0m     \u001b[0msignature\u001b[0m \u001b[1;33m=\u001b[0m \u001b[1;34m'D->D'\u001b[0m \u001b[1;32mif\u001b[0m \u001b[0misComplexType\u001b[0m\u001b[1;33m(\u001b[0m\u001b[0mt\u001b[0m\u001b[1;33m)\u001b[0m \u001b[1;32melse\u001b[0m \u001b[1;34m'd->d'\u001b[0m\u001b[1;33m\u001b[0m\u001b[1;33m\u001b[0m\u001b[0m\n\u001b[0;32m    550\u001b[0m     \u001b[0mextobj\u001b[0m \u001b[1;33m=\u001b[0m \u001b[0mget_linalg_error_extobj\u001b[0m\u001b[1;33m(\u001b[0m\u001b[0m_raise_linalgerror_singular\u001b[0m\u001b[1;33m)\u001b[0m\u001b[1;33m\u001b[0m\u001b[1;33m\u001b[0m\u001b[0m\n\u001b[1;32m--> 551\u001b[1;33m     \u001b[0mainv\u001b[0m \u001b[1;33m=\u001b[0m \u001b[0m_umath_linalg\u001b[0m\u001b[1;33m.\u001b[0m\u001b[0minv\u001b[0m\u001b[1;33m(\u001b[0m\u001b[0ma\u001b[0m\u001b[1;33m,\u001b[0m \u001b[0msignature\u001b[0m\u001b[1;33m=\u001b[0m\u001b[0msignature\u001b[0m\u001b[1;33m,\u001b[0m \u001b[0mextobj\u001b[0m\u001b[1;33m=\u001b[0m\u001b[0mextobj\u001b[0m\u001b[1;33m)\u001b[0m\u001b[1;33m\u001b[0m\u001b[1;33m\u001b[0m\u001b[0m\n\u001b[0m\u001b[0;32m    552\u001b[0m     \u001b[1;32mreturn\u001b[0m \u001b[0mwrap\u001b[0m\u001b[1;33m(\u001b[0m\u001b[0mainv\u001b[0m\u001b[1;33m.\u001b[0m\u001b[0mastype\u001b[0m\u001b[1;33m(\u001b[0m\u001b[0mresult_t\u001b[0m\u001b[1;33m,\u001b[0m \u001b[0mcopy\u001b[0m\u001b[1;33m=\u001b[0m\u001b[1;32mFalse\u001b[0m\u001b[1;33m)\u001b[0m\u001b[1;33m)\u001b[0m\u001b[1;33m\u001b[0m\u001b[1;33m\u001b[0m\u001b[0m\n\u001b[0;32m    553\u001b[0m \u001b[1;33m\u001b[0m\u001b[0m\n",
      "\u001b[1;32m~\\OneDrive\\Documents\\lib\\site-packages\\numpy\\linalg\\linalg.py\u001b[0m in \u001b[0;36m_raise_linalgerror_singular\u001b[1;34m(err, flag)\u001b[0m\n\u001b[0;32m     95\u001b[0m \u001b[1;33m\u001b[0m\u001b[0m\n\u001b[0;32m     96\u001b[0m \u001b[1;32mdef\u001b[0m \u001b[0m_raise_linalgerror_singular\u001b[0m\u001b[1;33m(\u001b[0m\u001b[0merr\u001b[0m\u001b[1;33m,\u001b[0m \u001b[0mflag\u001b[0m\u001b[1;33m)\u001b[0m\u001b[1;33m:\u001b[0m\u001b[1;33m\u001b[0m\u001b[1;33m\u001b[0m\u001b[0m\n\u001b[1;32m---> 97\u001b[1;33m     \u001b[1;32mraise\u001b[0m \u001b[0mLinAlgError\u001b[0m\u001b[1;33m(\u001b[0m\u001b[1;34m\"Singular matrix\"\u001b[0m\u001b[1;33m)\u001b[0m\u001b[1;33m\u001b[0m\u001b[1;33m\u001b[0m\u001b[0m\n\u001b[0m\u001b[0;32m     98\u001b[0m \u001b[1;33m\u001b[0m\u001b[0m\n\u001b[0;32m     99\u001b[0m \u001b[1;32mdef\u001b[0m \u001b[0m_raise_linalgerror_nonposdef\u001b[0m\u001b[1;33m(\u001b[0m\u001b[0merr\u001b[0m\u001b[1;33m,\u001b[0m \u001b[0mflag\u001b[0m\u001b[1;33m)\u001b[0m\u001b[1;33m:\u001b[0m\u001b[1;33m\u001b[0m\u001b[1;33m\u001b[0m\u001b[0m\n",
      "\u001b[1;31mLinAlgError\u001b[0m: Singular matrix"
     ]
    }
   ],
   "source": [
    "#Inverse Of Matrix in python\n",
    "import numpy as np\n",
    "M=np.zeros((6,6))\n",
    "print(\"\\n------MATRIX A------\\n\",M)\n",
    "ai=np.linalg.inv(M)\n",
    "print(\"\\nInverse of MAtrix M as---\",ai)"
   ]
  },
  {
   "cell_type": "code",
   "execution_count": null,
   "metadata": {},
   "outputs": [],
   "source": []
  }
 ],
 "metadata": {
  "kernelspec": {
   "display_name": "Python 3",
   "language": "python",
   "name": "python3"
  },
  "language_info": {
   "codemirror_mode": {
    "name": "ipython",
    "version": 3
   },
   "file_extension": ".py",
   "mimetype": "text/x-python",
   "name": "python",
   "nbconvert_exporter": "python",
   "pygments_lexer": "ipython3",
   "version": "3.7.4"
  }
 },
 "nbformat": 4,
 "nbformat_minor": 2
}
